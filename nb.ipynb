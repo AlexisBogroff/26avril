{
 "cells": [
  {
   "cell_type": "code",
   "execution_count": 1,
   "id": "971d909c",
   "metadata": {},
   "outputs": [
    {
     "name": "stdout",
     "output_type": "stream",
     "text": [
      "coucou\n",
      "Coucou alexis\n"
     ]
    }
   ],
   "source": [
    "def salutations():\n",
    "    return \"coucou\"\n",
    "\n",
    "def salutations_personalise(prenom):\n",
    "    return f\"Coucou {prenom}\"\n",
    "\n",
    "# It is important to understand the order of arguments\n",
    "def salutations_personalise_default(prenom, nom='piu'):\n",
    "    return f\"Coucou {prenom} {nom}\"\n",
    "\n",
    "\n",
    "message = salutations()\n",
    "print(message)\n",
    "\n",
    "message = salutations_personalise(\"alexis\")\n",
    "print(message)\n"
   ]
  }
 ],
 "metadata": {
  "kernelspec": {
   "display_name": "base",
   "language": "python",
   "name": "python3"
  },
  "language_info": {
   "codemirror_mode": {
    "name": "ipython",
    "version": 3
   },
   "file_extension": ".py",
   "mimetype": "text/x-python",
   "name": "python",
   "nbconvert_exporter": "python",
   "pygments_lexer": "ipython3",
   "version": "3.9.15"
  }
 },
 "nbformat": 4,
 "nbformat_minor": 5
}

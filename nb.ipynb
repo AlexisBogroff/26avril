{
 "cells": [
  {
   "cell_type": "code",
   "execution_count": null,
   "id": "971d909c",
   "metadata": {},
   "outputs": [],
   "source": [
    "def salutations():\n",
    "    return \"coucou\"\n",
    "\n",
    "def salutations_personalise(prenom):\n",
    "    return f\"Coucou {prenom}\"\n",
    "\n",
    "def salutations_personalise_default(prenom, nom='piu'):\n",
    "    return f\"Coucou {prenom} {nom}\"\n",
    "\n",
    "\n",
    "message = salutations()\n",
    "print(message)\n",
    "\n",
    "message = salutations_personalise(\"alexis\")\n",
    "print(message)\n"
   ]
  }
 ],
 "metadata": {
  "language_info": {
   "name": "python"
  }
 },
 "nbformat": 4,
 "nbformat_minor": 5
}
